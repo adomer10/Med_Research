{
 "cells": [
  {
   "cell_type": "markdown",
   "source": [
    "Setup for Model; No need to rerun"
   ],
   "metadata": {
    "collapsed": false
   },
   "id": "88f9b31aff5f341a"
  },
  {
   "cell_type": "markdown",
   "source": [
    "# Series one and combination (Data pre-processing for data to be together)"
   ],
   "metadata": {
    "collapsed": false
   },
   "id": "2f9e2cdbe26e698c"
  },
  {
   "cell_type": "code",
   "outputs": [],
   "source": [
    "import os\n",
    "import pandas as pd\n",
    "\n",
    "# folder path\n",
    "path = \"Series1/Data\"\n",
    "# get all files in the folder\n",
    "files = os.listdir(path)\n",
    "# iterate through all files\n",
    "for index, file in enumerate(files):\n",
    "    # if the file is a jpg file\n",
    "    if file.endswith(\".jpg\"):\n",
    "        # rename the file by adding a_ to the beginning of the file name\n",
    "        os.rename(os.path.join(path, file), os.path.join(path, \"a_\" + file))\n",
    "\n",
    "# folder path\n",
    "path = \"Series2/Data\"\n",
    "# get all files in the folder\n",
    "files = os.listdir(path)\n",
    "# iterate through all files\n",
    "for index, file in enumerate(files):\n",
    "    # if the file is a jpg file\n",
    "    if file.endswith(\".jpg\"):\n",
    "        # rename the file by adding b_ to the beginning of the file name\n",
    "        os.rename(os.path.join(path, file), os.path.join(path, \"b_\" + file))\n"
   ],
   "metadata": {
    "collapsed": false,
    "ExecuteTime": {
     "end_time": "2024-03-22T15:59:09.515938Z",
     "start_time": "2024-03-22T15:59:04.327698Z"
    }
   },
   "id": "9a4cb0fc64ee3bdd",
   "execution_count": 17
  },
  {
   "cell_type": "code",
   "outputs": [],
   "source": [
    "dfa = pd.read_csv(\"Series1/series_1_list_read.csv\")\n",
    "dfb = pd.read_csv(\"Series2/series_2_list_read.csv\")\n",
    "\n",
    "# in df1, for each row in column image_name, add a_ to the beginning of the value\n",
    "dfa[\"Image\"] = \"a_\" + dfa[\"Image\"]\n",
    "# in df2, for each row in column image_name, add b_ to the beginning of the value\n",
    "dfb[\"Image\"] = \"b_\" + dfb[\"Image\"]\n",
    "# combine the two data frames and put them into a new dataframe in a new directory called Data\n",
    "df = pd.concat([dfa, dfb], axis=0)\n",
    "# create a new directory called Data\n",
    "os.makedirs(\"Data\", exist_ok=True)\n",
    "df.to_csv(\"Data/data_directory.csv\", index=False)"
   ],
   "metadata": {
    "collapsed": false,
    "ExecuteTime": {
     "end_time": "2024-03-22T16:19:19.743490Z",
     "start_time": "2024-03-22T16:19:19.546074Z"
    }
   },
   "id": "d28c779c97025a93",
   "execution_count": 26
  },
  {
   "cell_type": "markdown",
   "source": [],
   "metadata": {
    "collapsed": false
   },
   "id": "8e63823e5ef2d610"
  },
  {
   "cell_type": "code",
   "outputs": [],
   "source": [
    "import shutil\n",
    "\n",
    "def combine_jpg_files(series1_dir, series2_dir, combined_dir):\n",
    "    if not os.path.exists(combined_dir):\n",
    "        os.makedirs(combined_dir)\n",
    "\n",
    "    # Function to copy .jpg files from a source directory to a destination directory\n",
    "    def copy_jpg_files(source_dir, dest_dir):\n",
    "        for item in os.listdir(source_dir):\n",
    "            if item.endswith(\".jpg\"):\n",
    "                source_path = os.path.join(source_dir, item)\n",
    "                dest_path = os.path.join(dest_dir, item)\n",
    "                if os.path.exists(dest_path):\n",
    "                    base, extension = os.path.splitext(item)\n",
    "                    counter = 1\n",
    "                    new_filename = f\"{base}_{counter}{extension}\"\n",
    "                    new_dest_path = os.path.join(dest_dir, new_filename)\n",
    "                    while os.path.exists(new_dest_path):\n",
    "                        counter += 1\n",
    "                        new_filename = f\"{base}_{counter}{extension}\"\n",
    "                        new_dest_path = os.path.join(dest_dir, new_filename)\n",
    "                    shutil.copy2(source_path, new_dest_path)\n",
    "                else:\n",
    "                    shutil.copy2(source_path, dest_path)\n",
    "\n",
    "    copy_jpg_files(series1_dir, combined_dir)\n",
    "    copy_jpg_files(series2_dir, combined_dir)\n",
    "\n",
    "series1_dir = \"Series1/Data\"\n",
    "series2_dir = \"Series2/Data\"\n",
    "combined_dir = \"Data/data\"\n",
    "combine_jpg_files(series1_dir, series2_dir, combined_dir)"
   ],
   "metadata": {
    "collapsed": false,
    "ExecuteTime": {
     "end_time": "2024-03-22T16:26:33.204528Z",
     "start_time": "2024-03-22T16:26:18.021387Z"
    }
   },
   "id": "60faef4b9d468392",
   "execution_count": 27
  },
  {
   "cell_type": "code",
   "outputs": [],
   "source": [],
   "metadata": {
    "collapsed": false
   },
   "id": "90de4221515f4875"
  }
 ],
 "metadata": {
  "kernelspec": {
   "display_name": "Python 3",
   "language": "python",
   "name": "python3"
  },
  "language_info": {
   "codemirror_mode": {
    "name": "ipython",
    "version": 2
   },
   "file_extension": ".py",
   "mimetype": "text/x-python",
   "name": "python",
   "nbconvert_exporter": "python",
   "pygments_lexer": "ipython2",
   "version": "2.7.6"
  }
 },
 "nbformat": 4,
 "nbformat_minor": 5
}
